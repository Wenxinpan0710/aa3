{
 "cells": [
  {
   "cell_type": "markdown",
   "metadata": {},
   "source": [
    "<center>\n",
    "    <img src=\"https://cf-courses-data.s3.us.cloud-object-storage.appdomain.cloud/IBMDeveloperSkillsNetwork-DS0105EN-SkillsNetwork/labs/Module2/images/SN_web_lightmode.png\" width=\"300\" alt=\"cognitiveclass.ai logo\">\n",
    "</center>\n"
   ]
  },
  {
   "cell_type": "markdown",
   "metadata": {},
   "source": [
    "#### Add your code below following the instructions given in the course\n"
   ]
  },
  {
   "cell_type": "markdown",
   "metadata": {},
   "source": [
    "# Data science tools and ecosystem"
   ]
  },
  {
   "cell_type": "markdown",
   "metadata": {},
   "source": [
    "This course introduced you to multiple data science languages, libraries, tools. "
   ]
  },
  {
   "cell_type": "markdown",
   "metadata": {},
   "source": [
    "### data science languages\n",
    "1. python\n",
    "2. R\n",
    "3. SQL\n",
    "4. Julia\n",
    "5. Scala\n",
    "6. Matlab/Octave\n",
    "7. Java\n",
    "8. ..."
   ]
  },
  {
   "cell_type": "markdown",
   "metadata": {},
   "source": [
    "### data science libraries\n",
    "#### for Python\n",
    "1. Numpy\n",
    "2. Pandas\n",
    "3. Matplotlib\n",
    "4. Tensorflow\n",
    "5. scikit-learn\n",
    "6. PyTorch\n",
    "\n",
    "#### for R\n",
    "1. ggplot2\n",
    "2. dplyr\n",
    "3. caret\n",
    "4. glmnet"
   ]
  },
  {
   "cell_type": "markdown",
   "metadata": {},
   "source": [
    "### data science tools\n",
    "\n",
    "| number | tools name|\n",
    "|--------|-----------|\n",
    "| 1 | Jupyter Notebooks|\n",
    "| 2 | RStudio |\n",
    "| 3 | Pycharm |\n",
    "| 4 | Spyter |\n",
    "| 5 | Anaconda |\n",
    "| 6 | Matlab |\n",
    "| 7 | SAS |\n",
    "| 8 | Apache Hadoop|"
   ]
  },
  {
   "cell_type": "markdown",
   "metadata": {},
   "source": [
    "### arithmetic expression examples\n",
    "\n",
    "a = 5\n",
    "\n",
    "b = 6\n",
    "\n",
    "c = a + b\n",
    "\n",
    "d = a * b\n",
    "\n",
    "e = b - a\n",
    "\n",
    "f = b / a\n",
    "\n",
    "g = a ** b\n",
    "\n",
    "h = b % a\n",
    "\n",
    "print(a, b, c, d, e, f, g, h)\n",
    "\n",
    "\n",
    "We define two variables a and b with values 5 and 6, respectively.\n",
    "\n",
    "We perform different arithmetic operations such as addition, subtraction, multiplication, division, exponentiation, and modulus using these variables.\n",
    "\n",
    "Finally, we print out the results of these operations.\n",
    "\n",
    "When you run this code, you'll see the results of each operation printed out.\n"
   ]
  },
  {
   "cell_type": "code",
   "execution_count": 1,
   "metadata": {
    "tags": []
   },
   "outputs": [
    {
     "name": "stdout",
     "output_type": "stream",
     "text": [
      "Multiplication result: 50\n",
      "Addition result: 15\n"
     ]
    }
   ],
   "source": [
    "# Multiply and add numbers\n",
    "num1 = 10\n",
    "num2 = 5\n",
    "\n",
    "# Multiplication\n",
    "result_multiply = num1 * num2\n",
    "\n",
    "# Addition\n",
    "result_add = num1 + num2\n",
    "\n",
    "print(\"Multiplication result:\", result_multiply)\n",
    "print(\"Addition result:\", result_add)"
   ]
  },
  {
   "cell_type": "code",
   "execution_count": 2,
   "metadata": {
    "tags": []
   },
   "outputs": [
    {
     "name": "stdout",
     "output_type": "stream",
     "text": [
      "120 minutes is equal to 2.0 hours.\n"
     ]
    }
   ],
   "source": [
    "# Convert minutes to hours\n",
    "minutes = 120\n",
    "\n",
    "# Convert minutes to hours\n",
    "hours = minutes / 60\n",
    "\n",
    "print(minutes, \"minutes is equal to\", hours, \"hours.\")\n"
   ]
  },
  {
   "cell_type": "markdown",
   "metadata": {},
   "source": [
    "### Objective\n",
    "\n",
    "* Create a markdown cell with the title of the notebook. (1 pt)\n",
    "\n",
    "* Create a markdown cell for an introduction. (1 pt)\n",
    "\n",
    "* Create a markdown cell to list data science languages. (3 pts)\n",
    "\n",
    "* Create a markdown cell to list data science libraries. (3 pts)\n",
    "\n",
    "* Create a markdown cell with a table of Data Science tools. (3 pts)\n",
    "\n",
    "* Create a markdown cell introducing arithmetic expression examples. (1 pt)\n",
    "\n",
    "* Create a code cell to multiply and add numbers. (2 pts)\n",
    "\n",
    "* Create a code cell to convert minutes to hours. (2 pts)"
   ]
  },
  {
   "cell_type": "markdown",
   "metadata": {},
   "source": [
    "# Author\n",
    "\n",
    "Wenxin Pan"
   ]
  },
  {
   "cell_type": "code",
   "execution_count": null,
   "metadata": {},
   "outputs": [],
   "source": []
  }
 ],
 "metadata": {
  "kernelspec": {
   "display_name": "Python",
   "language": "python",
   "name": "conda-env-python-py"
  },
  "language_info": {
   "codemirror_mode": {
    "name": "ipython",
    "version": 3
   },
   "file_extension": ".py",
   "mimetype": "text/x-python",
   "name": "python",
   "nbconvert_exporter": "python",
   "pygments_lexer": "ipython3",
   "version": "3.7.12"
  }
 },
 "nbformat": 4,
 "nbformat_minor": 4
}
